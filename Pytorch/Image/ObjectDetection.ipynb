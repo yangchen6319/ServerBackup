{
 "cells": [
  {
   "cell_type": "code",
   "execution_count": 1,
   "metadata": {},
   "outputs": [],
   "source": [
    "import os\n",
    "import torch\n",
    "import numpy as np\n",
    "from PIL import Image"
   ]
  },
  {
   "cell_type": "code",
   "execution_count": 22,
   "metadata": {},
   "outputs": [],
   "source": [
    "# 定义一个Dataset\n",
    "class PennFudanDataset(torch.utils.data.Dataset):\n",
    "    def __init__(self, root, transformers):\n",
    "        self.root = root\n",
    "        self.transformer = transformers\n",
    "        self.images = list(sorted(os.listdir(os.path.join(root, \"PNGImages\"))))\n",
    "        self.masks = list(sorted(os.listdir(os.path.join(root, \"PedMasks\"))))\n",
    "\n",
    "    def __getitem__(self, index):\n",
    "        # load images and masks\n",
    "        img_path = os.path.join(self.root, \"PNGImages\", self.images[index])\n",
    "        mask_path = os.path.join(self.root, \"PedMasks\", self.masks[index])\n",
    "        # open image and mask\n",
    "        img = Image.open(img_path).convert(\"RGB\")\n",
    "        mask = Image.open(mask_path)\n",
    "        mask = np.array(mask)\n",
    "        mask_index = np.unique(mask)\n",
    "        mask_index = mask_index[1:]\n",
    "        # 分割图像标记，有mask的地方为true，并且按照标记数量将图像分层\n",
    "        masks = mask == mask_index[:, None, None]\n",
    "        # number of mask\n",
    "        mask_number = len(mask_index)\n",
    "        boxs = []\n",
    "        for i in range(mask_number):\n",
    "            pos = np.where(masks[i])\n",
    "            xmin = np.min(pos[1])\n",
    "            xmax = np.max(pos[1])\n",
    "            ymin = np.min(pos[0])\n",
    "            ymax = np.max(pos[0])\n",
    "            boxs.append([xmin,ymin, xmax, ymax])\n",
    "        # convert everything into tensor\n",
    "        boxs = torch.as_tensor(boxs, dtype=torch.float32)\n",
    "        labels = torch.as_tensor((mask_number,), dtype=torch.int64)   \n",
    "        masks = torch.as_tensor(masks, dtype=torch.uint8)\n",
    "        image_id = torch.tensor([index])\n",
    "        area = (boxs[:, 3] - boxs[:, 1]) * (boxs[:, 2] - boxs[:, 0])\n",
    "        # suppose all instances are not crowd\n",
    "        iscrowd = torch.zeros((mask_number,), dtype=torch.int64)\n",
    "\n",
    "        target = {}\n",
    "        target[\"boxes\"] = boxs\n",
    "        target[\"labels\"] = labels\n",
    "        target[\"masks\"] = masks\n",
    "        target[\"image_id\"] = image_id\n",
    "        target[\"area\"] = area\n",
    "        target[\"iscrowd\"] = iscrowd\n",
    "\n",
    "        if self.transforms is not None:\n",
    "            img, target = self.transforms(img, target)\n",
    "\n",
    "        return img, target\n",
    "\n",
    "    def __len__(self):\n",
    "        return len(self.imgs)"
   ]
  },
  {
   "cell_type": "code",
   "execution_count": 23,
   "metadata": {},
   "outputs": [
    {
     "name": "stdout",
     "output_type": "stream",
     "text": [
      "(1, 445, 479)\n"
     ]
    }
   ],
   "source": [
    "# test dataset\n",
    "pennFudanDataset = PennFudanDataset(\"C:/Users/CHENCHEN/Project/ServerBackup/data/PennFudanPed\", \"transformer\")\n",
    "pennFudanDataset[2]"
   ]
  },
  {
   "cell_type": "code",
   "execution_count": 32,
   "metadata": {},
   "outputs": [
    {
     "name": "stdout",
     "output_type": "stream",
     "text": [
      "tensor([1., 1., 1., 1., 1., 1., 1., 1., 1., 1., 1., 1., 1., 1., 1., 1., 1., 1.,\n",
      "        1., 1.])\n"
     ]
    }
   ],
   "source": [
    "a = np.arange(0,100,10)\n",
    "b = np.where(a < 50)\n",
    "c = torch.ones(20)\n",
    "print(c)"
   ]
  },
  {
   "cell_type": "code",
   "execution_count": null,
   "metadata": {},
   "outputs": [],
   "source": []
  }
 ],
 "metadata": {
  "kernelspec": {
   "display_name": "Python 3.7.12 ('pytorch')",
   "language": "python",
   "name": "python3"
  },
  "language_info": {
   "codemirror_mode": {
    "name": "ipython",
    "version": 3
   },
   "file_extension": ".py",
   "mimetype": "text/x-python",
   "name": "python",
   "nbconvert_exporter": "python",
   "pygments_lexer": "ipython3",
   "version": "3.7.12"
  },
  "orig_nbformat": 4,
  "vscode": {
   "interpreter": {
    "hash": "425f96c65d6abe0af8f5a574b544c136a84d384aab4da1ae2e2902dd1c17bf8a"
   }
  }
 },
 "nbformat": 4,
 "nbformat_minor": 2
}
